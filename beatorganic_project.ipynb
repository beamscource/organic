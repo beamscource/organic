{
  "nbformat": 4,
  "nbformat_minor": 0,
  "metadata": {
    "colab": {
      "provenance": [],
      "authorship_tag": "ABX9TyMFxVwHX6ddFVSBV6n4ZZuK",
      "include_colab_link": true
    },
    "kernelspec": {
      "name": "python3",
      "display_name": "Python 3"
    },
    "language_info": {
      "name": "python"
    }
  },
  "cells": [
    {
      "cell_type": "markdown",
      "metadata": {
        "id": "view-in-github",
        "colab_type": "text"
      },
      "source": [
        "<a href=\"https://colab.research.google.com/github/beamscource/organic/blob/main/beatorganic_project.ipynb\" target=\"_parent\"><img src=\"https://colab.research.google.com/assets/colab-badge.svg\" alt=\"Open In Colab\"/></a>"
      ]
    },
    {
      "cell_type": "markdown",
      "source": [
        "**General goals of the project**\n",
        "\n",
        "1. Find interesting and unique question.\n",
        "2. Identify which data to use (audio, pictures).\n",
        "3. Scrape and prepare the data.\n",
        "4. Train a NN model (using SageMaker).\n",
        "5. Evaluate model's performance.\n",
        "6. Deploy the model in an streamlitapp.\n",
        "7. Make predictions.\n",
        "8. Build a pipepeline to add new features and retrain."
      ],
      "metadata": {
        "id": "S_mPPiwliHto"
      }
    },
    {
      "cell_type": "markdown",
      "source": [
        "### Scraping beatbox videos from YT\n",
        "\n"
      ],
      "metadata": {
        "id": "FShhskGRhio1"
      }
    },
    {
      "cell_type": "markdown",
      "source": [
        "https://github.com/marcosschroh/youtube-audio-downloader/blob/master/sound_downloader/downloader.py\n",
        "\n",
        "https://www.geeksforgeeks.org/youtube-mediaaudio-download-using-python-pafy/\n",
        "\n",
        "https://github.com/carlthome/audio-scraper\n",
        "\n",
        "Result: There is not a single stable Python library which works with YT since YT's site is changing frequently. It's easier to use an online downloader like www.loader.to "
      ],
      "metadata": {
        "id": "iB5xysk9lXgN"
      }
    },
    {
      "cell_type": "markdown",
      "source": [
        "### Prepare a dataset\n",
        "\n"
      ],
      "metadata": {
        "id": "65okq2vGkFV6"
      }
    },
    {
      "cell_type": "markdown",
      "source": [
        "- sound classes in beat box: 50 to 120\n",
        "\n",
        "  see https://www.reddit.com/r/beatbox/comments/bfrfrl/here_it_is_a_complete_list_of_all_sounds_in/"
      ],
      "metadata": {
        "id": "cT0rBNVrLq_J"
      }
    },
    {
      "cell_type": "markdown",
      "source": [
        "- sound libraries in Python\n",
        "\n",
        "- https://www.alixaprodev.com/2021/09/python-libraries-for-audio-manipulation.html\n",
        "- https://github.com/Parisson - audio data labelling - NOT STABLE\n",
        "- https://github.com/heartexlabs/label-studio"
      ],
      "metadata": {
        "id": "7qkXfi50RsRE"
      }
    },
    {
      "cell_type": "code",
      "source": [
        "# simple script that uses librosa to split wav file into short clips\n",
        "python edit_files.py -i /mnt/c/Users/kleine1/Downloads/dlow/ -c 6"
      ],
      "metadata": {
        "id": "DyOz1rf3hT-L"
      },
      "execution_count": null,
      "outputs": []
    },
    {
      "cell_type": "markdown",
      "source": [
        "### PyTorch models"
      ],
      "metadata": {
        "id": "9nMsWTQ_liLX"
      }
    },
    {
      "cell_type": "markdown",
      "source": [
        "- classification with CNN+LSTM models\n",
        "\n",
        "https://hackernoon.com/intro-to-audio-analysis-recognizing-sounds-using-machine-learning-qy2r3ufl\n",
        "\n",
        "https://www.nature.com/articles/s41598-021-96446-w\n",
        "https://www.nature.com/articles/s41598-019-48909-4\n",
        "\n",
        "https://towardsdatascience.com/audio-deep-learning-made-simple-sound-classification-step-by-step-cebc936bbe5\n",
        "\n",
        "https://towardsdatascience.com/real-time-sound-event-classification-83e892cf187e\n",
        "\n",
        "\n",
        "- use case 1: beatbox analytics for different beat boxers (e.g., Are there more instance of X in routines of beatboxer A vs beatboxer B?)\n",
        "- use case 2: semi-supervised training for new data"
      ],
      "metadata": {
        "id": "BVRCKbbqlz5N"
      }
    },
    {
      "cell_type": "markdown",
      "source": [
        "- generative autoencoder/difusion/GAN models\n",
        "\n",
        "- WaveGAN\n",
        "\n",
        "https://github.com/chrisdonahue/wavegan\n",
        "\n",
        "- Wavenet\n",
        "\n",
        "https://medium.com/@rachelchen_49210/generating-ambient-noise-from-wavenet-95aa7f0a8f77\n",
        "\n",
        "https://towardsdatascience.com/neuralfunk-combining-deep-learning-with-sound-design-91935759d628\n",
        "\n",
        "https://magenta.tensorflow.org/nsynth\n",
        "\n",
        "https://www.deepmind.com/blog/wavenet-a-generative-model-for-raw-audio"
      ],
      "metadata": {
        "id": "aGLk4HtKk0Pi"
      }
    },
    {
      "cell_type": "markdown",
      "source": [
        "https://github.com/vincentherrmann/pytorch-wavenet"
      ],
      "metadata": {
        "id": "Z6vy5cOCVQ8T"
      }
    },
    {
      "cell_type": "markdown",
      "source": [
        "- DiffWave\n",
        "\n",
        "https://github.com/lmnt-com/diffwave"
      ],
      "metadata": {
        "id": "cR2PBxUrmdxo"
      }
    },
    {
      "cell_type": "code",
      "source": [
        "pip install diffwave\n",
        "pip install tensorboard\n",
        "pip install Pillow"
      ],
      "metadata": {
        "id": "BZx2_GBDg7Hh"
      },
      "execution_count": null,
      "outputs": []
    },
    {
      "cell_type": "code",
      "source": [
        "python -m diffwave.preprocess /mnt/c/Users/kleine1/Downloads/dlow/clean_outout\n",
        "python -m diffwave /mnt/c/Users/kleine1/Downloads/dlow/model /mnt/c/Users/kleine1/Downloads/dlow/output_clean"
      ],
      "metadata": {
        "id": "CfOtcKsTSAoH"
      },
      "execution_count": null,
      "outputs": []
    },
    {
      "cell_type": "code",
      "source": [
        "tensorboard --logdir /mnt/c/Users/kleine1/Downloads/dlow/model --host localhost --port 8088"
      ],
      "metadata": {
        "id": "66YjUV7Bhrcw"
      },
      "execution_count": null,
      "outputs": []
    },
    {
      "cell_type": "markdown",
      "source": [
        "- generating sounds from autoencoder models\n",
        "\n",
        "https://github.com/musikalkemist/generating-sound-with-neural-networks"
      ],
      "metadata": {
        "id": "E2iXPL1hNyYX"
      }
    },
    {
      "cell_type": "markdown",
      "source": [
        "- style transfer\n",
        "\n",
        "https://github.com/inzva/Audio-Style-Transfer\n",
        "\n",
        "https://arxiv.org/abs/1710.11385\n"
      ],
      "metadata": {
        "id": "zUzj_Gdfmqkw"
      }
    },
    {
      "cell_type": "markdown",
      "source": [
        "- training on a M1 chip\n",
        "\n",
        "https://stackoverflow.com/questions/72416726/how-to-move-pytorch-model-to-gpu-on-apple-m1-chips\n",
        "\n",
        "https://stackoverflow.com/questions/68820453/how-to-run-pytorch-on-macbook-pro-m1-gpu"
      ],
      "metadata": {
        "id": "PvjLXHc4g4M9"
      }
    }
  ]
}