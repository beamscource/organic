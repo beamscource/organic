{
  "nbformat": 4,
  "nbformat_minor": 0,
  "metadata": {
    "colab": {
      "provenance": [],
      "collapsed_sections": [
        "FShhskGRhio1",
        "65okq2vGkFV6"
      ],
      "authorship_tag": "ABX9TyN4LfEb9M+bJn3A9f+MyVAw",
      "include_colab_link": true
    },
    "kernelspec": {
      "name": "python3",
      "display_name": "Python 3"
    },
    "language_info": {
      "name": "python"
    },
    "gpuClass": "standard"
  },
  "cells": [
    {
      "cell_type": "markdown",
      "metadata": {
        "id": "view-in-github",
        "colab_type": "text"
      },
      "source": [
        "<a href=\"https://colab.research.google.com/github/beamscource/organic/blob/main/beatorganic_project.ipynb\" target=\"_parent\"><img src=\"https://colab.research.google.com/assets/colab-badge.svg\" alt=\"Open In Colab\"/></a>"
      ]
    },
    {
      "cell_type": "markdown",
      "source": [
        "# **General goals of a ML project**"
      ],
      "metadata": {
        "id": "DjR6mErC4aR5"
      }
    },
    {
      "cell_type": "markdown",
      "source": [
        "\n",
        "\n",
        "1. Find interesting and unique question.\n",
        "2. Identify which data to use (audio, pictures).\n",
        "3. Scrape and prepare the data.\n",
        "4. Train a NN model (using SageMaker).\n",
        "5. Evaluate model's performance.\n",
        "6. Deploy the model in an streamlitapp.\n",
        "7. Make predictions.\n",
        "8. Build a pipepeline to add new features and retrain."
      ],
      "metadata": {
        "id": "S_mPPiwliHto"
      }
    },
    {
      "cell_type": "markdown",
      "source": [
        "# **Beatorganic**"
      ],
      "metadata": {
        "id": "-Z1KIVKK4qfs"
      }
    },
    {
      "cell_type": "markdown",
      "source": [
        "### Scraping beatbox videos from YT\n",
        "\n"
      ],
      "metadata": {
        "id": "FShhskGRhio1"
      }
    },
    {
      "cell_type": "markdown",
      "source": [
        "https://github.com/marcosschroh/youtube-audio-downloader/blob/master/sound_downloader/downloader.py\n",
        "\n",
        "https://www.geeksforgeeks.org/youtube-mediaaudio-download-using-python-pafy/\n",
        "\n",
        "https://github.com/carlthome/audio-scraper\n",
        "\n",
        "**Result**: There is not a single stable Python library which works with YT since YT's site is changing frequently. It's easier to use an online downloader like www.loader.to "
      ],
      "metadata": {
        "id": "iB5xysk9lXgN"
      }
    },
    {
      "cell_type": "markdown",
      "source": [
        "### Prepare the dataset\n",
        "\n"
      ],
      "metadata": {
        "id": "65okq2vGkFV6"
      }
    },
    {
      "cell_type": "markdown",
      "source": [
        "- sound classes in beat box: 50 to 120\n",
        "\n",
        "  see https://www.reddit.com/r/beatbox/comments/bfrfrl/here_it_is_a_complete_list_of_all_sounds_in/"
      ],
      "metadata": {
        "id": "cT0rBNVrLq_J"
      }
    },
    {
      "cell_type": "markdown",
      "source": [
        "- sound libraries in Python\n",
        "\n",
        "- https://www.alixaprodev.com/2021/09/python-libraries-for-audio-manipulation.html\n",
        "- https://github.com/Parisson - audio data labelling - NOT STABLE\n",
        "- https://github.com/heartexlabs/label-studio"
      ],
      "metadata": {
        "id": "7qkXfi50RsRE"
      }
    },
    {
      "cell_type": "code",
      "source": [
        "# simple script that uses librosa to split wav file into short clips\n",
        "# https://github.com/beamscource/organic\n",
        "\n",
        "python edit_files.py -i /mnt/c/Users/kleine1/Downloads/dlow/ -c 6"
      ],
      "metadata": {
        "id": "DyOz1rf3hT-L"
      },
      "execution_count": null,
      "outputs": []
    },
    {
      "cell_type": "markdown",
      "source": [
        "### PyTorch models"
      ],
      "metadata": {
        "id": "9nMsWTQ_liLX"
      }
    },
    {
      "cell_type": "markdown",
      "source": [
        "- audio classification with CNN+LSTM models\n",
        "\n",
        "https://hackernoon.com/intro-to-audio-analysis-recognizing-sounds-using-machine-learning-qy2r3ufl\n",
        "\n",
        "https://www.nature.com/articles/s41598-021-96446-w\n",
        "https://www.nature.com/articles/s41598-019-48909-4\n",
        "\n",
        "https://towardsdatascience.com/audio-deep-learning-made-simple-sound-classification-step-by-step-cebc936bbe5\n",
        "\n",
        "https://towardsdatascience.com/real-time-sound-event-classification-83e892cf187e\n",
        "\n",
        "\n",
        "- use case 1: beatbox analytics for different beat boxers (e.g., Are there more instance of X in routines of beatboxer A vs beatboxer B?)\n",
        "- use case 2: semi-supervised training for new data"
      ],
      "metadata": {
        "id": "BVRCKbbqlz5N"
      }
    },
    {
      "cell_type": "markdown",
      "source": [
        "- generative autoencoder/difusion/GAN models\n",
        "\n",
        "- WaveGAN\n",
        "\n",
        "https://github.com/chrisdonahue/wavegan\n",
        "\n",
        "- Wavenet\n",
        "\n",
        "https://medium.com/@rachelchen_49210/generating-ambient-noise-from-wavenet-95aa7f0a8f77\n",
        "\n",
        "https://towardsdatascience.com/neuralfunk-combining-deep-learning-with-sound-design-91935759d628\n",
        "\n",
        "https://magenta.tensorflow.org/nsynth\n",
        "\n",
        "https://www.deepmind.com/blog/wavenet-a-generative-model-for-raw-audio\n",
        "\n",
        "https://github.com/vincentherrmann/pytorch-wavenet"
      ],
      "metadata": {
        "id": "aGLk4HtKk0Pi"
      }
    },
    {
      "cell_type": "markdown",
      "source": [
        "- DiffWave\n",
        "\n",
        "https://github.com/lmnt-com/diffwave"
      ],
      "metadata": {
        "id": "cR2PBxUrmdxo"
      }
    },
    {
      "cell_type": "code",
      "source": [
        "pip install diffwave\n",
        "pip install tensorboard\n",
        "pip install Pillow"
      ],
      "metadata": {
        "id": "BZx2_GBDg7Hh"
      },
      "execution_count": null,
      "outputs": []
    },
    {
      "cell_type": "code",
      "source": [
        "python -m diffwave.preprocess /mnt/c/Users/kleine1/Downloads/dlow/clean_outout\n",
        "python -m diffwave /mnt/c/Users/kleine1/Downloads/dlow/model /mnt/c/Users/kleine1/Downloads/dlow/output_clean"
      ],
      "metadata": {
        "id": "CfOtcKsTSAoH"
      },
      "execution_count": null,
      "outputs": []
    },
    {
      "cell_type": "code",
      "source": [
        "tensorboard --logdir /mnt/c/Users/kleine1/Downloads/dlow/model --host localhost --port 8088"
      ],
      "metadata": {
        "id": "66YjUV7Bhrcw"
      },
      "execution_count": null,
      "outputs": []
    },
    {
      "cell_type": "markdown",
      "source": [
        "- https://diffwave-demo.github.io/"
      ],
      "metadata": {
        "id": "cug5TWx1RI74"
      }
    },
    {
      "cell_type": "markdown",
      "source": [
        "- generating sounds from autoencoder models\n",
        "\n",
        "https://github.com/musikalkemist/generating-sound-with-neural-networks"
      ],
      "metadata": {
        "id": "E2iXPL1hNyYX"
      }
    },
    {
      "cell_type": "markdown",
      "source": [
        "- use case: style transfer\n",
        "\n",
        "https://github.com/inzva/Audio-Style-Transfer\n",
        "\n",
        "https://arxiv.org/abs/1710.11385\n"
      ],
      "metadata": {
        "id": "zUzj_Gdfmqkw"
      }
    },
    {
      "cell_type": "markdown",
      "source": [
        "https://github.com/BenAAndrew/Voice-Cloning-App"
      ],
      "metadata": {
        "id": "bv96WkzoBHTB"
      }
    },
    {
      "cell_type": "markdown",
      "source": [
        "**TTS with Hugging Face**\n",
        "\n",
        "https://github.com/Vaibhavs10/ml-with-audio\n",
        "\n",
        "https://huggingface.co/tasks/text-to-speech\n",
        "\n",
        "https://colab.research.google.com/github/espnet/notebook/blob/master/espnet2_tts_realtime_demo.ipynb#scrollTo=vrRM57hhgtHy"
      ],
      "metadata": {
        "id": "I-ZIPjDULNOQ"
      }
    },
    {
      "cell_type": "markdown",
      "source": [
        "**Audio playback**\n",
        "\n",
        "- https://realpython.com/playing-and-recording-sound-python/\n",
        "- https://python-sounddevice.readthedocs.io/en/0.4.5/\n",
        "- https://stackoverflow.com/questions/8707967/playing-a-sound-from-a-wave-form-stored-in-an-array"
      ],
      "metadata": {
        "id": "U_WNohviOehp"
      }
    },
    {
      "cell_type": "markdown",
      "source": [
        "**Training on a M1 chip**\n",
        "\n",
        "- ensure to have MacOS 12.3.+ and Pytorch 1.13.+ installed"
      ],
      "metadata": {
        "id": "PvjLXHc4g4M9"
      }
    },
    {
      "cell_type": "code",
      "source": [
        "import torch\n",
        "\n",
        "print(torch.__version__)\n",
        "\n",
        "# this ensures that the current MacOS version is at least 12.3+\n",
        "print(torch.backends.mps.is_available())\n",
        "# this ensures that the current current PyTorch installation was built with MPS activated.\n",
        "print(torch.backends.mps.is_built())"
      ],
      "metadata": {
        "id": "9wiNhJn2Hfal"
      },
      "execution_count": null,
      "outputs": []
    },
    {
      "cell_type": "markdown",
      "source": [
        "- https://github.com/pytorch/pytorch/releases"
      ],
      "metadata": {
        "id": "o5FknIViHwCb"
      }
    },
    {
      "cell_type": "markdown",
      "source": [
        "- https://towardsdatascience.com/installing-pytorch-on-apple-m1-chip-with-gpu-acceleration-3351dc44d67c\n",
        "- https://stackoverflow.com/questions/68820453/how-to-run-pytorch-on-macbook-pro-m1-gpu\n",
        "- https://stackoverflow.com/questions/72416726/how-to-move-pytorch-model-to-gpu-on-apple-m1-chips"
      ],
      "metadata": {
        "id": "5fKncPFzJFkc"
      }
    },
    {
      "cell_type": "markdown",
      "source": [
        "- slow MPS device:\n",
        "- https://github.com/pytorch/pytorch/issues/77799"
      ],
      "metadata": {
        "id": "Fi2oX5m2LGaU"
      }
    },
    {
      "cell_type": "markdown",
      "source": [
        "**Training on Collab**\n",
        "\n",
        "https://neptune.ai/blog/how-to-use-google-colab-for-deep-learning-complete-tutorial\n",
        "\n",
        "https://blog.roboflow.com/how-to-save-and-load-weights-in-google-colab/"
      ],
      "metadata": {
        "id": "e5HOVFPzy0l1"
      }
    },
    {
      "cell_type": "code",
      "source": [
        "!pip install diffwave\n",
        "!pip install tensorboard\n",
        "!pip install Pillow"
      ],
      "metadata": {
        "colab": {
          "base_uri": "https://localhost:8080/"
        },
        "id": "84FOlKmTy43p",
        "outputId": "c2e50914-e50c-4dea-90ca-bae7f407d970"
      },
      "execution_count": null,
      "outputs": [
        {
          "output_type": "stream",
          "name": "stdout",
          "text": [
            "Looking in indexes: https://pypi.org/simple, https://us-python.pkg.dev/colab-wheels/public/simple/\n",
            "Requirement already satisfied: diffwave in /usr/local/lib/python3.8/dist-packages (0.1.7)\n",
            "Requirement already satisfied: torch>=1.6 in /usr/local/lib/python3.8/dist-packages (from diffwave) (1.13.0+cu116)\n",
            "Requirement already satisfied: torchaudio>=0.6.0 in /usr/local/lib/python3.8/dist-packages (from diffwave) (0.13.0+cu116)\n",
            "Requirement already satisfied: tqdm in /usr/local/lib/python3.8/dist-packages (from diffwave) (4.64.1)\n",
            "Requirement already satisfied: numpy in /usr/local/lib/python3.8/dist-packages (from diffwave) (1.21.6)\n",
            "Requirement already satisfied: typing-extensions in /usr/local/lib/python3.8/dist-packages (from torch>=1.6->diffwave) (4.4.0)\n",
            "Looking in indexes: https://pypi.org/simple, https://us-python.pkg.dev/colab-wheels/public/simple/\n",
            "Requirement already satisfied: tensorboard in /usr/local/lib/python3.8/dist-packages (2.9.1)\n",
            "Requirement already satisfied: google-auth<3,>=1.6.3 in /usr/local/lib/python3.8/dist-packages (from tensorboard) (2.15.0)\n",
            "Requirement already satisfied: wheel>=0.26 in /usr/local/lib/python3.8/dist-packages (from tensorboard) (0.38.4)\n",
            "Requirement already satisfied: tensorboard-plugin-wit>=1.6.0 in /usr/local/lib/python3.8/dist-packages (from tensorboard) (1.8.1)\n",
            "Requirement already satisfied: tensorboard-data-server<0.7.0,>=0.6.0 in /usr/local/lib/python3.8/dist-packages (from tensorboard) (0.6.1)\n",
            "Requirement already satisfied: absl-py>=0.4 in /usr/local/lib/python3.8/dist-packages (from tensorboard) (1.3.0)\n",
            "Requirement already satisfied: protobuf<3.20,>=3.9.2 in /usr/local/lib/python3.8/dist-packages (from tensorboard) (3.19.6)\n",
            "Requirement already satisfied: setuptools>=41.0.0 in /usr/local/lib/python3.8/dist-packages (from tensorboard) (57.4.0)\n",
            "Requirement already satisfied: google-auth-oauthlib<0.5,>=0.4.1 in /usr/local/lib/python3.8/dist-packages (from tensorboard) (0.4.6)\n",
            "Requirement already satisfied: werkzeug>=1.0.1 in /usr/local/lib/python3.8/dist-packages (from tensorboard) (1.0.1)\n",
            "Requirement already satisfied: numpy>=1.12.0 in /usr/local/lib/python3.8/dist-packages (from tensorboard) (1.21.6)\n",
            "Requirement already satisfied: grpcio>=1.24.3 in /usr/local/lib/python3.8/dist-packages (from tensorboard) (1.51.1)\n",
            "Requirement already satisfied: markdown>=2.6.8 in /usr/local/lib/python3.8/dist-packages (from tensorboard) (3.4.1)\n",
            "Requirement already satisfied: requests<3,>=2.21.0 in /usr/local/lib/python3.8/dist-packages (from tensorboard) (2.23.0)\n",
            "Requirement already satisfied: rsa<5,>=3.1.4 in /usr/local/lib/python3.8/dist-packages (from google-auth<3,>=1.6.3->tensorboard) (4.9)\n",
            "Requirement already satisfied: cachetools<6.0,>=2.0.0 in /usr/local/lib/python3.8/dist-packages (from google-auth<3,>=1.6.3->tensorboard) (5.2.0)\n",
            "Requirement already satisfied: six>=1.9.0 in /usr/local/lib/python3.8/dist-packages (from google-auth<3,>=1.6.3->tensorboard) (1.15.0)\n",
            "Requirement already satisfied: pyasn1-modules>=0.2.1 in /usr/local/lib/python3.8/dist-packages (from google-auth<3,>=1.6.3->tensorboard) (0.2.8)\n",
            "Requirement already satisfied: requests-oauthlib>=0.7.0 in /usr/local/lib/python3.8/dist-packages (from google-auth-oauthlib<0.5,>=0.4.1->tensorboard) (1.3.1)\n",
            "Requirement already satisfied: importlib-metadata>=4.4 in /usr/local/lib/python3.8/dist-packages (from markdown>=2.6.8->tensorboard) (5.1.0)\n",
            "Requirement already satisfied: zipp>=0.5 in /usr/local/lib/python3.8/dist-packages (from importlib-metadata>=4.4->markdown>=2.6.8->tensorboard) (3.11.0)\n",
            "Requirement already satisfied: pyasn1<0.5.0,>=0.4.6 in /usr/local/lib/python3.8/dist-packages (from pyasn1-modules>=0.2.1->google-auth<3,>=1.6.3->tensorboard) (0.4.8)\n",
            "Requirement already satisfied: urllib3!=1.25.0,!=1.25.1,<1.26,>=1.21.1 in /usr/local/lib/python3.8/dist-packages (from requests<3,>=2.21.0->tensorboard) (1.24.3)\n",
            "Requirement already satisfied: certifi>=2017.4.17 in /usr/local/lib/python3.8/dist-packages (from requests<3,>=2.21.0->tensorboard) (2022.12.7)\n",
            "Requirement already satisfied: idna<3,>=2.5 in /usr/local/lib/python3.8/dist-packages (from requests<3,>=2.21.0->tensorboard) (2.10)\n",
            "Requirement already satisfied: chardet<4,>=3.0.2 in /usr/local/lib/python3.8/dist-packages (from requests<3,>=2.21.0->tensorboard) (3.0.4)\n",
            "Requirement already satisfied: oauthlib>=3.0.0 in /usr/local/lib/python3.8/dist-packages (from requests-oauthlib>=0.7.0->google-auth-oauthlib<0.5,>=0.4.1->tensorboard) (3.2.2)\n",
            "Looking in indexes: https://pypi.org/simple, https://us-python.pkg.dev/colab-wheels/public/simple/\n",
            "Requirement already satisfied: Pillow in /usr/local/lib/python3.8/dist-packages (7.1.2)\n"
          ]
        }
      ]
    },
    {
      "cell_type": "code",
      "source": [
        "from google.colab import drive\n",
        "drive.mount('/content/drive')"
      ],
      "metadata": {
        "colab": {
          "base_uri": "https://localhost:8080/"
        },
        "id": "Fu0cGNlP91xH",
        "outputId": "1a39609a-c900-452b-df5b-38bad7fd6dda"
      },
      "execution_count": null,
      "outputs": [
        {
          "output_type": "stream",
          "name": "stdout",
          "text": [
            "Drive already mounted at /content/drive; to attempt to forcibly remount, call drive.mount(\"/content/drive\", force_remount=True).\n"
          ]
        }
      ]
    },
    {
      "cell_type": "code",
      "source": [
        "# done already\n",
        "!python -m diffwave.preprocess /content/drive/MyDrive/dlow/output_clean/"
      ],
      "metadata": {
        "id": "9QdkX368585x"
      },
      "execution_count": null,
      "outputs": []
    },
    {
      "cell_type": "code",
      "source": [
        "!python -m diffwave /content/drive/MyDrive/dlow/output_clean/model/ /content/drive/MyDrive/dlow/output_clean/"
      ],
      "metadata": {
        "colab": {
          "base_uri": "https://localhost:8080/"
        },
        "id": "SyQ1ok3O5_PC",
        "outputId": "7b4399bc-23f8-4543-f6bc-6cf1297a0e56"
      },
      "execution_count": null,
      "outputs": [
        {
          "output_type": "stream",
          "name": "stdout",
          "text": [
            "Epoch 0: 100% 42/42 [01:23<00:00,  1.99s/it]\n",
            "Epoch 1: 100% 42/42 [01:00<00:00,  1.43s/it]\n",
            "Epoch 2: 100% 42/42 [01:01<00:00,  1.48s/it]\n",
            "Epoch 3: 100% 42/42 [01:03<00:00,  1.50s/it]\n",
            "Epoch 4: 100% 42/42 [01:03<00:00,  1.52s/it]\n",
            "Epoch 5: 100% 42/42 [01:04<00:00,  1.53s/it]\n",
            "Epoch 6: 100% 42/42 [01:04<00:00,  1.53s/it]\n",
            "Epoch 7: 100% 42/42 [01:04<00:00,  1.53s/it]\n",
            "Epoch 8: 100% 42/42 [01:04<00:00,  1.53s/it]\n",
            "Epoch 9: 100% 42/42 [01:04<00:00,  1.53s/it]\n",
            "Epoch 10: 100% 42/42 [01:04<00:00,  1.53s/it]\n",
            "Epoch 11: 100% 42/42 [01:04<00:00,  1.53s/it]\n",
            "Epoch 12: 100% 42/42 [01:04<00:00,  1.53s/it]\n",
            "Epoch 13: 100% 42/42 [01:04<00:00,  1.54s/it]\n",
            "Epoch 14: 100% 42/42 [01:04<00:00,  1.54s/it]\n",
            "Epoch 15: 100% 42/42 [01:04<00:00,  1.54s/it]\n",
            "Epoch 16: 100% 42/42 [01:04<00:00,  1.54s/it]\n",
            "Epoch 17: 100% 42/42 [01:04<00:00,  1.54s/it]\n",
            "Epoch 18: 100% 42/42 [01:04<00:00,  1.53s/it]\n",
            "Epoch 19: 100% 42/42 [01:04<00:00,  1.53s/it]\n",
            "Epoch 20: 100% 42/42 [01:04<00:00,  1.53s/it]\n",
            "Epoch 21: 100% 42/42 [01:04<00:00,  1.54s/it]\n",
            "Epoch 22: 100% 42/42 [01:04<00:00,  1.53s/it]\n",
            "Epoch 23: 100% 42/42 [01:04<00:00,  1.53s/it]\n",
            "Epoch 24: 100% 42/42 [01:04<00:00,  1.53s/it]\n",
            "Epoch 25: 100% 42/42 [01:04<00:00,  1.53s/it]\n",
            "Epoch 26: 100% 42/42 [01:04<00:00,  1.53s/it]\n",
            "Epoch 27: 100% 42/42 [01:04<00:00,  1.53s/it]\n",
            "Epoch 28: 100% 42/42 [01:04<00:00,  1.53s/it]\n",
            "Epoch 29: 100% 42/42 [01:04<00:00,  1.53s/it]\n",
            "Epoch 30: 100% 42/42 [01:04<00:00,  1.53s/it]\n",
            "Epoch 31: 100% 42/42 [01:04<00:00,  1.53s/it]\n",
            "Epoch 32: 100% 42/42 [01:04<00:00,  1.53s/it]\n",
            "Epoch 33: 100% 42/42 [01:04<00:00,  1.53s/it]\n",
            "Epoch 34: 100% 42/42 [01:04<00:00,  1.53s/it]\n",
            "Epoch 35: 100% 42/42 [01:04<00:00,  1.53s/it]\n",
            "Epoch 36: 100% 42/42 [01:04<00:00,  1.53s/it]\n",
            "Epoch 37: 100% 42/42 [01:04<00:00,  1.53s/it]\n",
            "Epoch 38: 100% 42/42 [01:04<00:00,  1.54s/it]\n",
            "Epoch 39: 100% 42/42 [01:04<00:00,  1.54s/it]\n",
            "Epoch 40: 100% 42/42 [01:04<00:00,  1.53s/it]\n",
            "Epoch 41: 100% 42/42 [01:04<00:00,  1.54s/it]\n",
            "Epoch 42: 100% 42/42 [01:04<00:00,  1.53s/it]\n",
            "Epoch 43: 100% 42/42 [01:04<00:00,  1.54s/it]\n",
            "Epoch 44: 100% 42/42 [01:04<00:00,  1.54s/it]\n",
            "Epoch 45: 100% 42/42 [01:04<00:00,  1.54s/it]\n",
            "Epoch 46: 100% 42/42 [01:04<00:00,  1.53s/it]\n",
            "Epoch 47: 100% 42/42 [01:04<00:00,  1.53s/it]\n",
            "Epoch 48: 100% 42/42 [01:04<00:00,  1.53s/it]\n",
            "Epoch 49: 100% 42/42 [01:04<00:00,  1.53s/it]\n",
            "Epoch 50: 100% 42/42 [01:04<00:00,  1.53s/it]\n",
            "Epoch 51: 100% 42/42 [01:04<00:00,  1.54s/it]\n",
            "Epoch 52: 100% 42/42 [01:04<00:00,  1.53s/it]\n",
            "Epoch 53: 100% 42/42 [01:04<00:00,  1.54s/it]\n",
            "Epoch 54: 100% 42/42 [01:04<00:00,  1.53s/it]\n",
            "Epoch 55: 100% 42/42 [01:04<00:00,  1.53s/it]\n",
            "Epoch 56: 100% 42/42 [01:04<00:00,  1.53s/it]\n",
            "Epoch 57: 100% 42/42 [01:04<00:00,  1.53s/it]\n",
            "Epoch 58: 100% 42/42 [01:04<00:00,  1.53s/it]\n",
            "Epoch 59: 100% 42/42 [01:04<00:00,  1.53s/it]\n",
            "Epoch 60: 100% 42/42 [01:04<00:00,  1.53s/it]\n",
            "Epoch 61: 100% 42/42 [01:04<00:00,  1.53s/it]\n",
            "Epoch 62: 100% 42/42 [01:04<00:00,  1.53s/it]\n",
            "Epoch 63: 100% 42/42 [01:04<00:00,  1.53s/it]\n",
            "Epoch 64: 100% 42/42 [01:04<00:00,  1.53s/it]\n",
            "Epoch 65: 100% 42/42 [01:04<00:00,  1.53s/it]\n",
            "Epoch 66: 100% 42/42 [01:04<00:00,  1.53s/it]\n",
            "Epoch 67: 100% 42/42 [01:04<00:00,  1.53s/it]\n",
            "Epoch 68: 100% 42/42 [01:04<00:00,  1.53s/it]\n",
            "Epoch 69: 100% 42/42 [01:04<00:00,  1.53s/it]\n",
            "Epoch 70: 100% 42/42 [01:04<00:00,  1.53s/it]\n",
            "Epoch 71: 100% 42/42 [01:04<00:00,  1.53s/it]\n",
            "Epoch 72: 100% 42/42 [01:04<00:00,  1.53s/it]\n",
            "Epoch 73: 100% 42/42 [01:04<00:00,  1.53s/it]\n",
            "Epoch 74: 100% 42/42 [01:04<00:00,  1.53s/it]\n",
            "Epoch 75: 100% 42/42 [01:04<00:00,  1.53s/it]\n",
            "Epoch 76: 100% 42/42 [01:04<00:00,  1.53s/it]\n",
            "Epoch 77: 100% 42/42 [01:04<00:00,  1.53s/it]\n",
            "Epoch 78: 100% 42/42 [01:04<00:00,  1.53s/it]\n",
            "Epoch 79: 100% 42/42 [01:04<00:00,  1.53s/it]\n",
            "Epoch 80: 100% 42/42 [01:04<00:00,  1.53s/it]\n",
            "Epoch 81: 100% 42/42 [01:04<00:00,  1.53s/it]\n",
            "Epoch 82: 100% 42/42 [01:04<00:00,  1.52s/it]\n",
            "Epoch 83: 100% 42/42 [01:04<00:00,  1.53s/it]\n",
            "Epoch 84: 100% 42/42 [01:04<00:00,  1.53s/it]\n",
            "Epoch 85: 100% 42/42 [01:04<00:00,  1.53s/it]\n",
            "Epoch 86: 100% 42/42 [01:04<00:00,  1.53s/it]\n",
            "Epoch 87: 100% 42/42 [01:04<00:00,  1.53s/it]\n",
            "Epoch 88: 100% 42/42 [01:04<00:00,  1.52s/it]\n",
            "Epoch 89: 100% 42/42 [01:04<00:00,  1.53s/it]\n",
            "Epoch 90: 100% 42/42 [01:03<00:00,  1.52s/it]\n",
            "Epoch 91: 100% 42/42 [01:04<00:00,  1.52s/it]\n",
            "Epoch 92: 100% 42/42 [01:04<00:00,  1.53s/it]\n",
            "Epoch 93: 100% 42/42 [01:04<00:00,  1.53s/it]\n",
            "Epoch 94: 100% 42/42 [01:04<00:00,  1.53s/it]\n",
            "Epoch 95: 100% 42/42 [01:04<00:00,  1.54s/it]\n",
            "Epoch 96: 100% 42/42 [01:04<00:00,  1.53s/it]\n",
            "Epoch 97: 100% 42/42 [01:04<00:00,  1.53s/it]\n",
            "Epoch 98: 100% 42/42 [01:04<00:00,  1.53s/it]\n",
            "Epoch 99: 100% 42/42 [01:04<00:00,  1.53s/it]\n",
            "Epoch 100: 100% 42/42 [01:04<00:00,  1.53s/it]\n",
            "Epoch 101: 100% 42/42 [01:04<00:00,  1.53s/it]\n",
            "Epoch 102: 100% 42/42 [01:04<00:00,  1.53s/it]\n",
            "Epoch 103: 100% 42/42 [01:04<00:00,  1.53s/it]\n",
            "Epoch 104: 100% 42/42 [01:04<00:00,  1.53s/it]\n",
            "Epoch 105: 100% 42/42 [01:04<00:00,  1.53s/it]\n",
            "Epoch 106: 100% 42/42 [01:04<00:00,  1.53s/it]\n",
            "Epoch 107: 100% 42/42 [01:04<00:00,  1.53s/it]\n",
            "Epoch 108: 100% 42/42 [01:04<00:00,  1.53s/it]\n",
            "Epoch 109: 100% 42/42 [01:04<00:00,  1.53s/it]\n",
            "Epoch 110: 100% 42/42 [01:04<00:00,  1.53s/it]\n",
            "Epoch 111: 100% 42/42 [01:04<00:00,  1.53s/it]\n",
            "Epoch 112: 100% 42/42 [01:04<00:00,  1.53s/it]\n",
            "Epoch 113: 100% 42/42 [01:04<00:00,  1.53s/it]\n",
            "Epoch 114: 100% 42/42 [01:04<00:00,  1.53s/it]\n",
            "Epoch 115: 100% 42/42 [01:04<00:00,  1.53s/it]\n",
            "Epoch 116: 100% 42/42 [01:04<00:00,  1.53s/it]\n",
            "Epoch 117: 100% 42/42 [01:04<00:00,  1.53s/it]\n",
            "Epoch 118: 100% 42/42 [01:04<00:00,  1.52s/it]\n",
            "Epoch 119: 100% 42/42 [01:04<00:00,  1.52s/it]\n",
            "Epoch 120: 100% 42/42 [01:04<00:00,  1.53s/it]\n",
            "Epoch 121: 100% 42/42 [01:04<00:00,  1.53s/it]\n",
            "Epoch 122: 100% 42/42 [01:04<00:00,  1.53s/it]\n",
            "Epoch 123: 100% 42/42 [01:04<00:00,  1.53s/it]\n",
            "Epoch 124: 100% 42/42 [01:04<00:00,  1.53s/it]\n",
            "Epoch 125: 100% 42/42 [01:04<00:00,  1.54s/it]\n",
            "Epoch 126: 100% 42/42 [01:04<00:00,  1.53s/it]\n",
            "Epoch 127: 100% 42/42 [01:04<00:00,  1.53s/it]\n",
            "Epoch 128: 100% 42/42 [01:04<00:00,  1.53s/it]\n",
            "Epoch 129: 100% 42/42 [01:04<00:00,  1.53s/it]\n",
            "Epoch 130: 100% 42/42 [01:04<00:00,  1.53s/it]\n",
            "Epoch 131: 100% 42/42 [01:04<00:00,  1.53s/it]\n",
            "Epoch 132: 100% 42/42 [01:04<00:00,  1.53s/it]\n",
            "Epoch 133: 100% 42/42 [01:04<00:00,  1.53s/it]\n",
            "Epoch 134: 100% 42/42 [01:04<00:00,  1.53s/it]\n",
            "Epoch 135: 100% 42/42 [01:04<00:00,  1.53s/it]\n",
            "Epoch 136: 100% 42/42 [01:04<00:00,  1.53s/it]\n",
            "Epoch 137: 100% 42/42 [01:04<00:00,  1.53s/it]\n",
            "Epoch 138: 100% 42/42 [01:04<00:00,  1.53s/it]\n",
            "Epoch 139: 100% 42/42 [01:04<00:00,  1.53s/it]\n",
            "Epoch 140: 100% 42/42 [01:04<00:00,  1.53s/it]\n",
            "Epoch 141: 100% 42/42 [01:04<00:00,  1.53s/it]\n",
            "Epoch 142: 100% 42/42 [01:04<00:00,  1.55s/it]\n",
            "Epoch 143: 100% 42/42 [01:04<00:00,  1.53s/it]\n",
            "Epoch 144: 100% 42/42 [01:04<00:00,  1.53s/it]\n",
            "Epoch 145: 100% 42/42 [01:04<00:00,  1.55s/it]\n",
            "Epoch 146: 100% 42/42 [01:04<00:00,  1.53s/it]\n",
            "Epoch 147: 100% 42/42 [01:04<00:00,  1.53s/it]\n",
            "Epoch 148: 100% 42/42 [01:04<00:00,  1.53s/it]\n",
            "Epoch 149: 100% 42/42 [01:04<00:00,  1.53s/it]\n",
            "Epoch 150: 100% 42/42 [01:04<00:00,  1.52s/it]\n",
            "Epoch 151: 100% 42/42 [01:04<00:00,  1.53s/it]\n",
            "Epoch 152: 100% 42/42 [01:04<00:00,  1.53s/it]\n",
            "Epoch 153: 100% 42/42 [01:04<00:00,  1.53s/it]\n",
            "Epoch 154: 100% 42/42 [01:04<00:00,  1.53s/it]\n",
            "Epoch 155: 100% 42/42 [01:04<00:00,  1.53s/it]\n",
            "Epoch 156: 100% 42/42 [01:04<00:00,  1.52s/it]\n",
            "Epoch 157: 100% 42/42 [01:04<00:00,  1.53s/it]\n",
            "Epoch 158: 100% 42/42 [01:04<00:00,  1.53s/it]\n",
            "Epoch 159: 100% 42/42 [01:04<00:00,  1.53s/it]\n",
            "Epoch 160: 100% 42/42 [01:04<00:00,  1.53s/it]\n",
            "Epoch 161: 100% 42/42 [01:04<00:00,  1.54s/it]\n",
            "Epoch 162: 100% 42/42 [01:04<00:00,  1.53s/it]\n",
            "Epoch 163: 100% 42/42 [01:04<00:00,  1.53s/it]\n",
            "Epoch 164: 100% 42/42 [01:04<00:00,  1.53s/it]\n",
            "Epoch 165: 100% 42/42 [01:04<00:00,  1.53s/it]\n",
            "Epoch 166: 100% 42/42 [01:04<00:00,  1.53s/it]\n",
            "Epoch 167: 100% 42/42 [01:04<00:00,  1.53s/it]\n",
            "Epoch 168: 100% 42/42 [01:04<00:00,  1.53s/it]\n",
            "Epoch 169: 100% 42/42 [01:04<00:00,  1.53s/it]\n",
            "Epoch 170: 100% 42/42 [01:04<00:00,  1.53s/it]\n",
            "Epoch 171: 100% 42/42 [01:04<00:00,  1.53s/it]\n",
            "Epoch 172: 100% 42/42 [01:04<00:00,  1.53s/it]\n",
            "Epoch 173: 100% 42/42 [01:04<00:00,  1.53s/it]\n",
            "Epoch 174: 100% 42/42 [01:04<00:00,  1.54s/it]\n",
            "Epoch 175: 100% 42/42 [01:03<00:00,  1.52s/it]\n",
            "Epoch 176: 100% 42/42 [01:04<00:00,  1.52s/it]\n",
            "Epoch 177: 100% 42/42 [01:04<00:00,  1.53s/it]\n",
            "Epoch 178: 100% 42/42 [01:04<00:00,  1.53s/it]\n",
            "Epoch 179: 100% 42/42 [01:04<00:00,  1.53s/it]\n",
            "Epoch 180: 100% 42/42 [01:04<00:00,  1.53s/it]\n",
            "Epoch 181: 100% 42/42 [01:04<00:00,  1.53s/it]\n",
            "Epoch 182: 100% 42/42 [01:04<00:00,  1.52s/it]\n",
            "Epoch 183: 100% 42/42 [01:03<00:00,  1.52s/it]\n",
            "Epoch 184: 100% 42/42 [01:04<00:00,  1.53s/it]\n",
            "Epoch 185: 100% 42/42 [01:04<00:00,  1.53s/it]\n",
            "Epoch 186: 100% 42/42 [01:04<00:00,  1.53s/it]\n",
            "Epoch 187: 100% 42/42 [01:04<00:00,  1.53s/it]\n",
            "Epoch 188: 100% 42/42 [01:04<00:00,  1.53s/it]\n",
            "Epoch 189: 100% 42/42 [01:04<00:00,  1.53s/it]\n",
            "Epoch 190: 100% 42/42 [01:05<00:00,  1.56s/it]\n",
            "Epoch 191: 100% 42/42 [01:04<00:00,  1.54s/it]\n",
            "Epoch 192: 100% 42/42 [01:04<00:00,  1.53s/it]\n",
            "Epoch 193: 100% 42/42 [01:04<00:00,  1.53s/it]\n",
            "Epoch 194: 100% 42/42 [01:04<00:00,  1.52s/it]\n",
            "Epoch 195: 100% 42/42 [01:03<00:00,  1.52s/it]\n",
            "Epoch 196: 100% 42/42 [01:04<00:00,  1.53s/it]\n",
            "Epoch 197: 100% 42/42 [01:04<00:00,  1.53s/it]\n",
            "Epoch 198: 100% 42/42 [01:04<00:00,  1.53s/it]\n",
            "Epoch 199: 100% 42/42 [01:04<00:00,  1.53s/it]\n",
            "Epoch 200: 100% 42/42 [01:04<00:00,  1.52s/it]\n",
            "Epoch 201: 100% 42/42 [01:04<00:00,  1.53s/it]\n",
            "Epoch 202: 100% 42/42 [01:04<00:00,  1.53s/it]\n",
            "Epoch 203: 100% 42/42 [01:04<00:00,  1.53s/it]\n",
            "Epoch 204: 100% 42/42 [01:04<00:00,  1.53s/it]\n",
            "Epoch 205: 100% 42/42 [01:04<00:00,  1.53s/it]\n",
            "Epoch 206: 100% 42/42 [01:04<00:00,  1.53s/it]\n",
            "Epoch 207: 100% 42/42 [01:04<00:00,  1.53s/it]\n",
            "Epoch 208: 100% 42/42 [01:04<00:00,  1.53s/it]\n",
            "Epoch 209: 100% 42/42 [01:04<00:00,  1.53s/it]\n",
            "Epoch 210: 100% 42/42 [01:04<00:00,  1.53s/it]\n",
            "Epoch 211: 100% 42/42 [01:04<00:00,  1.53s/it]\n",
            "Epoch 212: 100% 42/42 [01:04<00:00,  1.53s/it]\n",
            "Epoch 213: 100% 42/42 [01:04<00:00,  1.53s/it]\n",
            "Epoch 214: 100% 42/42 [01:04<00:00,  1.53s/it]\n",
            "Epoch 215: 100% 42/42 [01:04<00:00,  1.54s/it]\n",
            "Epoch 216: 100% 42/42 [01:04<00:00,  1.54s/it]\n",
            "Epoch 217: 100% 42/42 [01:05<00:00,  1.55s/it]\n",
            "Epoch 218: 100% 42/42 [01:04<00:00,  1.53s/it]\n",
            "Epoch 219: 100% 42/42 [01:04<00:00,  1.53s/it]\n",
            "Epoch 220: 100% 42/42 [01:04<00:00,  1.54s/it]\n",
            "Epoch 221: 100% 42/42 [01:04<00:00,  1.53s/it]\n",
            "Epoch 222: 100% 42/42 [01:04<00:00,  1.53s/it]\n",
            "Epoch 223: 100% 42/42 [01:04<00:00,  1.53s/it]\n",
            "Epoch 224: 100% 42/42 [01:04<00:00,  1.53s/it]\n",
            "Epoch 225: 100% 42/42 [01:04<00:00,  1.54s/it]\n",
            "Epoch 226: 100% 42/42 [01:04<00:00,  1.53s/it]\n",
            "Epoch 227: 100% 42/42 [01:04<00:00,  1.53s/it]\n",
            "Epoch 228: 100% 42/42 [01:04<00:00,  1.54s/it]\n",
            "Epoch 229: 100% 42/42 [01:04<00:00,  1.53s/it]\n",
            "Epoch 230: 100% 42/42 [01:04<00:00,  1.54s/it]\n",
            "Epoch 231: 100% 42/42 [01:04<00:00,  1.54s/it]\n",
            "Epoch 232: 100% 42/42 [01:04<00:00,  1.53s/it]\n",
            "Epoch 233: 100% 42/42 [01:04<00:00,  1.54s/it]\n",
            "Epoch 234: 100% 42/42 [01:04<00:00,  1.53s/it]\n",
            "Epoch 235: 100% 42/42 [01:04<00:00,  1.54s/it]\n",
            "Epoch 236: 100% 42/42 [01:04<00:00,  1.54s/it]\n",
            "Epoch 237: 100% 42/42 [01:04<00:00,  1.53s/it]\n",
            "Epoch 238: 100% 42/42 [01:04<00:00,  1.54s/it]\n",
            "Epoch 239: 100% 42/42 [01:04<00:00,  1.53s/it]\n",
            "Epoch 240: 100% 42/42 [01:04<00:00,  1.54s/it]\n",
            "Epoch 241: 100% 42/42 [01:04<00:00,  1.53s/it]\n",
            "Epoch 242: 100% 42/42 [01:04<00:00,  1.53s/it]\n",
            "Epoch 243: 100% 42/42 [01:04<00:00,  1.53s/it]\n",
            "Epoch 244: 100% 42/42 [01:04<00:00,  1.53s/it]\n",
            "Epoch 245: 100% 42/42 [01:04<00:00,  1.53s/it]\n",
            "Epoch 246: 100% 42/42 [01:05<00:00,  1.55s/it]\n",
            "Epoch 247: 100% 42/42 [01:04<00:00,  1.53s/it]\n",
            "Epoch 248: 100% 42/42 [01:04<00:00,  1.54s/it]\n",
            "Epoch 249: 100% 42/42 [01:04<00:00,  1.54s/it]\n",
            "Epoch 250: 100% 42/42 [01:04<00:00,  1.53s/it]\n",
            "Epoch 251: 100% 42/42 [01:04<00:00,  1.54s/it]\n",
            "Epoch 252: 100% 42/42 [01:04<00:00,  1.53s/it]\n",
            "Epoch 253: 100% 42/42 [01:05<00:00,  1.55s/it]\n",
            "Epoch 254: 100% 42/42 [01:04<00:00,  1.53s/it]\n",
            "Epoch 255: 100% 42/42 [01:04<00:00,  1.53s/it]\n",
            "Epoch 256: 100% 42/42 [01:04<00:00,  1.53s/it]\n",
            "Epoch 257: 100% 42/42 [01:04<00:00,  1.53s/it]\n",
            "Epoch 258: 100% 42/42 [01:04<00:00,  1.53s/it]\n",
            "Epoch 259: 100% 42/42 [01:04<00:00,  1.53s/it]\n",
            "Epoch 260: 100% 42/42 [01:03<00:00,  1.52s/it]\n",
            "Epoch 261: 100% 42/42 [01:04<00:00,  1.54s/it]\n",
            "Epoch 262: 100% 42/42 [01:04<00:00,  1.54s/it]\n",
            "Epoch 263: 100% 42/42 [01:04<00:00,  1.53s/it]\n",
            "Epoch 264: 100% 42/42 [01:04<00:00,  1.53s/it]\n",
            "Epoch 265: 100% 42/42 [01:04<00:00,  1.53s/it]\n",
            "Epoch 266: 100% 42/42 [01:04<00:00,  1.54s/it]\n",
            "Epoch 267: 100% 42/42 [01:05<00:00,  1.55s/it]\n",
            "Epoch 268: 100% 42/42 [01:04<00:00,  1.54s/it]\n",
            "Epoch 269: 100% 42/42 [01:04<00:00,  1.53s/it]\n",
            "Epoch 270: 100% 42/42 [01:04<00:00,  1.53s/it]\n",
            "Epoch 271: 100% 42/42 [01:04<00:00,  1.53s/it]\n",
            "Epoch 272: 100% 42/42 [01:04<00:00,  1.53s/it]\n",
            "Epoch 273: 100% 42/42 [01:04<00:00,  1.53s/it]\n",
            "Epoch 274: 100% 42/42 [01:04<00:00,  1.53s/it]\n",
            "Epoch 275: 100% 42/42 [01:04<00:00,  1.53s/it]\n",
            "Epoch 276: 100% 42/42 [01:04<00:00,  1.53s/it]\n",
            "Epoch 277: 100% 42/42 [01:04<00:00,  1.53s/it]\n",
            "Epoch 278: 100% 42/42 [01:04<00:00,  1.53s/it]\n",
            "Epoch 279: 100% 42/42 [01:04<00:00,  1.53s/it]\n",
            "Epoch 280: 100% 42/42 [01:04<00:00,  1.53s/it]\n",
            "Epoch 281: 100% 42/42 [01:05<00:00,  1.55s/it]\n",
            "Epoch 282: 100% 42/42 [01:04<00:00,  1.52s/it]\n",
            "Epoch 283: 100% 42/42 [01:04<00:00,  1.53s/it]\n",
            "Epoch 284: 100% 42/42 [01:04<00:00,  1.54s/it]\n",
            "Epoch 285: 100% 42/42 [01:04<00:00,  1.53s/it]\n",
            "Epoch 286: 100% 42/42 [01:04<00:00,  1.53s/it]\n",
            "Epoch 287: 100% 42/42 [01:04<00:00,  1.53s/it]\n",
            "Epoch 288: 100% 42/42 [01:04<00:00,  1.53s/it]\n",
            "Epoch 289: 100% 42/42 [01:04<00:00,  1.53s/it]\n",
            "Epoch 290: 100% 42/42 [01:04<00:00,  1.53s/it]\n",
            "Epoch 291: 100% 42/42 [01:04<00:00,  1.53s/it]\n",
            "Epoch 292: 100% 42/42 [01:04<00:00,  1.53s/it]\n",
            "Epoch 293: 100% 42/42 [01:04<00:00,  1.53s/it]\n",
            "Epoch 294: 100% 42/42 [01:04<00:00,  1.53s/it]\n",
            "Epoch 295: 100% 42/42 [01:04<00:00,  1.53s/it]\n",
            "Epoch 296: 100% 42/42 [01:04<00:00,  1.53s/it]\n",
            "Epoch 297: 100% 42/42 [01:04<00:00,  1.53s/it]\n",
            "Epoch 298: 100% 42/42 [01:04<00:00,  1.53s/it]\n",
            "Epoch 299: 100% 42/42 [01:04<00:00,  1.53s/it]\n",
            "Epoch 300: 100% 42/42 [01:04<00:00,  1.53s/it]\n",
            "Epoch 301: 100% 42/42 [01:04<00:00,  1.53s/it]\n",
            "Epoch 302: 100% 42/42 [01:04<00:00,  1.53s/it]\n",
            "Epoch 303: 100% 42/42 [01:04<00:00,  1.53s/it]\n",
            "Epoch 304: 100% 42/42 [01:04<00:00,  1.53s/it]\n",
            "Epoch 305: 100% 42/42 [01:04<00:00,  1.53s/it]\n",
            "Epoch 306: 100% 42/42 [01:04<00:00,  1.53s/it]\n",
            "Epoch 307: 100% 42/42 [01:03<00:00,  1.52s/it]\n",
            "Epoch 308: 100% 42/42 [01:04<00:00,  1.53s/it]\n",
            "Epoch 309: 100% 42/42 [01:04<00:00,  1.53s/it]\n",
            "Epoch 310: 100% 42/42 [01:04<00:00,  1.54s/it]\n",
            "Epoch 311: 100% 42/42 [01:04<00:00,  1.53s/it]\n",
            "Epoch 312: 100% 42/42 [01:04<00:00,  1.53s/it]\n",
            "Epoch 313: 100% 42/42 [01:04<00:00,  1.54s/it]\n",
            "Epoch 314: 100% 42/42 [01:04<00:00,  1.53s/it]\n",
            "Epoch 315: 100% 42/42 [01:04<00:00,  1.54s/it]\n",
            "Epoch 316: 100% 42/42 [01:04<00:00,  1.53s/it]\n",
            "Epoch 317: 100% 42/42 [01:04<00:00,  1.54s/it]\n",
            "Epoch 318: 100% 42/42 [01:04<00:00,  1.53s/it]\n",
            "Epoch 319: 100% 42/42 [01:04<00:00,  1.54s/it]\n",
            "Epoch 320: 100% 42/42 [01:04<00:00,  1.54s/it]\n",
            "Epoch 321: 100% 42/42 [01:04<00:00,  1.53s/it]\n",
            "Epoch 322: 100% 42/42 [01:04<00:00,  1.54s/it]\n",
            "Epoch 323: 100% 42/42 [01:04<00:00,  1.53s/it]\n",
            "Epoch 324: 100% 42/42 [01:04<00:00,  1.53s/it]\n",
            "Epoch 325: 100% 42/42 [01:04<00:00,  1.54s/it]\n",
            "Epoch 326: 100% 42/42 [01:04<00:00,  1.53s/it]\n",
            "Epoch 327: 100% 42/42 [01:04<00:00,  1.54s/it]\n",
            "Epoch 328:  60% 25/42 [00:38<00:25,  1.52s/it]"
          ]
        }
      ]
    },
    {
      "cell_type": "code",
      "source": [
        "# fix python code\n",
        "!vi /usr/local/lib/python3.8/dist-packages/diffwave/dataset.py\n",
        "/usr/local/lib/python3.8/dist-packages/diffwave/inference.py"
      ],
      "metadata": {
        "id": "flGGrMm_ANPk"
      },
      "execution_count": null,
      "outputs": []
    },
    {
      "cell_type": "code",
      "source": [
        "!tensorboard --logdir /content/drive/MyDrive/dlow/model/ --host localhost --port 8088"
      ],
      "metadata": {
        "id": "bJ_SxZXTAunP"
      },
      "execution_count": null,
      "outputs": []
    },
    {
      "cell_type": "code",
      "source": [
        "!python -m diffwave.inference --fast /content/drive/MyDrive/dlow/weights-13776.pt /content/drive/MyDrive/dlow/white_noise.wav.spec.npy -o output.wav"
      ],
      "metadata": {
        "colab": {
          "base_uri": "https://localhost:8080/"
        },
        "id": "wXLrTAR1IuJN",
        "outputId": "2213c652-4378-4300-9b5a-e8fcb7b7d12f"
      },
      "execution_count": null,
      "outputs": [
        {
          "output_type": "stream",
          "name": "stdout",
          "text": [
            "Traceback (most recent call last):\n",
            "  File \"/usr/lib/python3.8/runpy.py\", line 194, in _run_module_as_main\n",
            "    return _run_code(code, main_globals, None,\n",
            "  File \"/usr/lib/python3.8/runpy.py\", line 87, in _run_code\n",
            "    exec(code, run_globals)\n",
            "  File \"/usr/local/lib/python3.8/dist-packages/diffwave/inference.py\", line 106, in <module>\n",
            "    main(parser.parse_args())\n",
            "  File \"/usr/local/lib/python3.8/dist-packages/diffwave/inference.py\", line 92, in main\n",
            "    audio, sr = predict(spectrogram, model_dir=args.model_dir, fast_sampling=args.fast)\n",
            "  File \"/usr/local/lib/python3.8/dist-packages/diffwave/inference.py\", line 35, in predict\n",
            "    checkpoint = torch.load(model_dir)\n",
            "  File \"/usr/local/lib/python3.8/dist-packages/torch/serialization.py\", line 789, in load\n",
            "    return _load(opened_zipfile, map_location, pickle_module, **pickle_load_args)\n",
            "  File \"/usr/local/lib/python3.8/dist-packages/torch/serialization.py\", line 1131, in _load\n",
            "    result = unpickler.load()\n",
            "  File \"/usr/local/lib/python3.8/dist-packages/torch/serialization.py\", line 1101, in persistent_load\n",
            "    load_tensor(dtype, nbytes, key, _maybe_decode_ascii(location))\n",
            "  File \"/usr/local/lib/python3.8/dist-packages/torch/serialization.py\", line 1083, in load_tensor\n",
            "    wrap_storage=restore_location(storage, location),\n",
            "  File \"/usr/local/lib/python3.8/dist-packages/torch/serialization.py\", line 215, in default_restore_location\n",
            "    result = fn(storage, location)\n",
            "  File \"/usr/local/lib/python3.8/dist-packages/torch/serialization.py\", line 182, in _cuda_deserialize\n",
            "    device = validate_cuda_device(location)\n",
            "  File \"/usr/local/lib/python3.8/dist-packages/torch/serialization.py\", line 166, in validate_cuda_device\n",
            "    raise RuntimeError('Attempting to deserialize object on a CUDA '\n",
            "RuntimeError: Attempting to deserialize object on a CUDA device but torch.cuda.is_available() is False. If you are running on a CPU-only machine, please use torch.load with map_location=torch.device('cpu') to map your storages to the CPU.\n"
          ]
        }
      ]
    },
    {
      "cell_type": "code",
      "source": [
        "!python -m diffwave.inference --fast /content/drive/MyDrive/dlow/weights-13776.pt /content/drive/MyDrive/dlow/white_noise.wav.spec.npy -o output.wav"
      ],
      "metadata": {
        "id": "XZxEgZ8-KycB"
      },
      "execution_count": null,
      "outputs": []
    }
  ]
}